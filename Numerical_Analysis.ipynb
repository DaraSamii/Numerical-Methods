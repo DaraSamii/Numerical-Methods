{
  "nbformat": 4,
  "nbformat_minor": 0,
  "metadata": {
    "colab": {
      "name": "Numerical Analysis.ipynb",
      "provenance": [],
      "collapsed_sections": [
        "fHhhia9UxhwT",
        "VTt-luRk2mk2"
      ],
      "toc_visible": true,
      "authorship_tag": "ABX9TyN8t+hA5FGHz2R3vnbQ0bPw",
      "include_colab_link": true
    },
    "kernelspec": {
      "name": "python3",
      "display_name": "Python 3"
    },
    "language_info": {
      "name": "python"
    }
  },
  "cells": [
    {
      "cell_type": "markdown",
      "metadata": {
        "id": "view-in-github",
        "colab_type": "text"
      },
      "source": [
        "<a href=\"https://colab.research.google.com/github/DaraSamii/Numerical-Methods/blob/main/Numerical_Analysis.ipynb\" target=\"_parent\"><img src=\"https://colab.research.google.com/assets/colab-badge.svg\" alt=\"Open In Colab\"/></a>"
      ]
    },
    {
      "cell_type": "code",
      "metadata": {
        "id": "cCvmDGqS043y"
      },
      "source": [
        "import numpy as np\n",
        "import pandas as pd\n",
        "import matplotlib.pyplot as plt\n",
        "import seaborn as sns\n",
        "\n",
        "from IPython.display import Latex"
      ],
      "execution_count": null,
      "outputs": []
    },
    {
      "cell_type": "markdown",
      "source": [
        "# Numerical derivetives"
      ],
      "metadata": {
        "id": "fHhhia9UxhwT"
      }
    },
    {
      "cell_type": "markdown",
      "metadata": {
        "id": "FahKJ_Zv4gvi"
      },
      "source": [
        "---\n",
        "##Euler Method\n",
        "\n",
        "$y_{i+1} = y_i + h.f(x_i, y_i)$"
      ]
    },
    {
      "cell_type": "code",
      "metadata": {
        "id": "cLtpklHQ1REs"
      },
      "source": [
        "def Euler(func, h, x0, y0, xf):\n",
        "    '''\n",
        "    this functions uses `Euler method` to compute solve derivetives numericaly\n",
        "\n",
        "    Parameters:\n",
        "\n",
        "    * func: function which gets x_i and y_i and returns dy/dx\n",
        "\n",
        "        >> dy/dx = func(x_i, y_i)\n",
        "    * h: step size of solving algorithm\n",
        "\n",
        "    * x0: initial value for x\n",
        "\n",
        "    * y0: solved equetion will return y0 for the given x0\n",
        "\n",
        "    * xf: final x which algorithm will solve up to it\n",
        "    '''\n",
        "    xi = x0\n",
        "    yi = y0\n",
        "\n",
        "    Xs,Ys = [],[]\n",
        "    while xi < xf:\n",
        "        yi1 = yi + h*func(xi,yi)\n",
        "        Xs.append(xi)\n",
        "        Ys.append(yi)\n",
        "\n",
        "        xi += h\n",
        "        yi = yi1\n",
        "    \n",
        "    return pd.DataFrame({\"x_i\":Xs,\"y_i\":Ys})\n"
      ],
      "execution_count": null,
      "outputs": []
    },
    {
      "cell_type": "code",
      "metadata": {
        "colab": {
          "base_uri": "https://localhost:8080/"
        },
        "id": "8gZlq_VI4GbT",
        "outputId": "d9ba08f5-dfd7-4df4-be58-05ef1f750e1d"
      },
      "source": [
        "def func(x,y):\n",
        "    return x+ y\n",
        "\n",
        "Euler(func,0.1,0,1,1)"
      ],
      "execution_count": null,
      "outputs": [
        {
          "output_type": "execute_result",
          "data": {
            "text/html": [
              "<div>\n",
              "<style scoped>\n",
              "    .dataframe tbody tr th:only-of-type {\n",
              "        vertical-align: middle;\n",
              "    }\n",
              "\n",
              "    .dataframe tbody tr th {\n",
              "        vertical-align: top;\n",
              "    }\n",
              "\n",
              "    .dataframe thead th {\n",
              "        text-align: right;\n",
              "    }\n",
              "</style>\n",
              "<table border=\"1\" class=\"dataframe\">\n",
              "  <thead>\n",
              "    <tr style=\"text-align: right;\">\n",
              "      <th></th>\n",
              "      <th>x_i</th>\n",
              "      <th>y_i</th>\n",
              "    </tr>\n",
              "  </thead>\n",
              "  <tbody>\n",
              "    <tr>\n",
              "      <th>0</th>\n",
              "      <td>0.0</td>\n",
              "      <td>1.000000</td>\n",
              "    </tr>\n",
              "    <tr>\n",
              "      <th>1</th>\n",
              "      <td>0.1</td>\n",
              "      <td>1.100000</td>\n",
              "    </tr>\n",
              "    <tr>\n",
              "      <th>2</th>\n",
              "      <td>0.2</td>\n",
              "      <td>1.220000</td>\n",
              "    </tr>\n",
              "    <tr>\n",
              "      <th>3</th>\n",
              "      <td>0.3</td>\n",
              "      <td>1.362000</td>\n",
              "    </tr>\n",
              "    <tr>\n",
              "      <th>4</th>\n",
              "      <td>0.4</td>\n",
              "      <td>1.528200</td>\n",
              "    </tr>\n",
              "    <tr>\n",
              "      <th>5</th>\n",
              "      <td>0.5</td>\n",
              "      <td>1.721020</td>\n",
              "    </tr>\n",
              "    <tr>\n",
              "      <th>6</th>\n",
              "      <td>0.6</td>\n",
              "      <td>1.943122</td>\n",
              "    </tr>\n",
              "    <tr>\n",
              "      <th>7</th>\n",
              "      <td>0.7</td>\n",
              "      <td>2.197434</td>\n",
              "    </tr>\n",
              "    <tr>\n",
              "      <th>8</th>\n",
              "      <td>0.8</td>\n",
              "      <td>2.487178</td>\n",
              "    </tr>\n",
              "    <tr>\n",
              "      <th>9</th>\n",
              "      <td>0.9</td>\n",
              "      <td>2.815895</td>\n",
              "    </tr>\n",
              "    <tr>\n",
              "      <th>10</th>\n",
              "      <td>1.0</td>\n",
              "      <td>3.187485</td>\n",
              "    </tr>\n",
              "  </tbody>\n",
              "</table>\n",
              "</div>"
            ],
            "text/plain": [
              "    x_i       y_i\n",
              "0   0.0  1.000000\n",
              "1   0.1  1.100000\n",
              "2   0.2  1.220000\n",
              "3   0.3  1.362000\n",
              "4   0.4  1.528200\n",
              "5   0.5  1.721020\n",
              "6   0.6  1.943122\n",
              "7   0.7  2.197434\n",
              "8   0.8  2.487178\n",
              "9   0.9  2.815895\n",
              "10  1.0  3.187485"
            ]
          },
          "metadata": {},
          "execution_count": 3
        }
      ]
    },
    {
      "cell_type": "markdown",
      "metadata": {
        "id": "D7BBxtl64Y9F"
      },
      "source": [
        "---\n",
        "## Modified Euler\n",
        "* $y_{i+1} = y_i+ h.y_i^\\prime + \\frac{h^2}{2}.y_i''$\n",
        "\n",
        "* $y_i'' = \\frac{y_{i+1}' - y_i'}{h}$\n",
        "\n",
        "* $y_{i+1} = y_i + h*f(x_i,y_i) $\n",
        "\n",
        "$\\rightarrow y_{i+1} = y_i + \\frac{h}{2}[f(x_i,y_i) + f(x_i,y_{i+1})]$"
      ]
    },
    {
      "cell_type": "code",
      "metadata": {
        "id": "vyJjsaSm6ZXN"
      },
      "source": [
        "def ModifiedEuler(func, h, x0, y0, xf):\n",
        "    '''\n",
        "    this functions uses `Modified Euler` method to compute solve derivetives numericaly\n",
        "\n",
        "    Parameters:\n",
        "\n",
        "    * func: function which gets x_i and y_i and returns dy/dx\n",
        "\n",
        "        >> dy/dx = func(x_i, y_i)\n",
        "    * h: step size of solving algorithm\n",
        "\n",
        "    * x0: initial value for x\n",
        "\n",
        "    * y0: solved equetion will return y0 for the given x0\n",
        "\n",
        "    * xf: final x which algorithm will solve up to it\n",
        "    '''\n",
        "    xi = x0\n",
        "    yi = y0\n",
        "\n",
        "    Xs,Ys = [],[]\n",
        "    while xi <= xf:\n",
        "        yi1 = yi + 0.5*h*(func(xi,yi) + func(xi + h, yi + h*func(xi,yi)))\n",
        "        Xs.append(xi)\n",
        "        Ys.append(yi)\n",
        "\n",
        "        xi += h\n",
        "        yi = yi1\n",
        "    \n",
        "    return pd.DataFrame({\"x_i\":Xs,\"y_i\":Ys})  "
      ],
      "execution_count": null,
      "outputs": []
    },
    {
      "cell_type": "code",
      "metadata": {
        "colab": {
          "base_uri": "https://localhost:8080/"
        },
        "id": "UIPA_i2M68tw",
        "outputId": "196ca9cc-b505-413c-c211-a82e9e915632"
      },
      "source": [
        "def func(x,y):\n",
        "    return x+ y\n",
        "\n",
        "ModifiedEuler(func,0.1,0,1,1)"
      ],
      "execution_count": null,
      "outputs": [
        {
          "output_type": "execute_result",
          "data": {
            "text/html": [
              "<div>\n",
              "<style scoped>\n",
              "    .dataframe tbody tr th:only-of-type {\n",
              "        vertical-align: middle;\n",
              "    }\n",
              "\n",
              "    .dataframe tbody tr th {\n",
              "        vertical-align: top;\n",
              "    }\n",
              "\n",
              "    .dataframe thead th {\n",
              "        text-align: right;\n",
              "    }\n",
              "</style>\n",
              "<table border=\"1\" class=\"dataframe\">\n",
              "  <thead>\n",
              "    <tr style=\"text-align: right;\">\n",
              "      <th></th>\n",
              "      <th>x_i</th>\n",
              "      <th>y_i</th>\n",
              "    </tr>\n",
              "  </thead>\n",
              "  <tbody>\n",
              "    <tr>\n",
              "      <th>0</th>\n",
              "      <td>0.0</td>\n",
              "      <td>1.000000</td>\n",
              "    </tr>\n",
              "    <tr>\n",
              "      <th>1</th>\n",
              "      <td>0.1</td>\n",
              "      <td>1.110000</td>\n",
              "    </tr>\n",
              "    <tr>\n",
              "      <th>2</th>\n",
              "      <td>0.2</td>\n",
              "      <td>1.242050</td>\n",
              "    </tr>\n",
              "    <tr>\n",
              "      <th>3</th>\n",
              "      <td>0.3</td>\n",
              "      <td>1.398465</td>\n",
              "    </tr>\n",
              "    <tr>\n",
              "      <th>4</th>\n",
              "      <td>0.4</td>\n",
              "      <td>1.581804</td>\n",
              "    </tr>\n",
              "    <tr>\n",
              "      <th>5</th>\n",
              "      <td>0.5</td>\n",
              "      <td>1.794894</td>\n",
              "    </tr>\n",
              "    <tr>\n",
              "      <th>6</th>\n",
              "      <td>0.6</td>\n",
              "      <td>2.040857</td>\n",
              "    </tr>\n",
              "    <tr>\n",
              "      <th>7</th>\n",
              "      <td>0.7</td>\n",
              "      <td>2.323147</td>\n",
              "    </tr>\n",
              "    <tr>\n",
              "      <th>8</th>\n",
              "      <td>0.8</td>\n",
              "      <td>2.645578</td>\n",
              "    </tr>\n",
              "    <tr>\n",
              "      <th>9</th>\n",
              "      <td>0.9</td>\n",
              "      <td>3.012364</td>\n",
              "    </tr>\n",
              "    <tr>\n",
              "      <th>10</th>\n",
              "      <td>1.0</td>\n",
              "      <td>3.428162</td>\n",
              "    </tr>\n",
              "  </tbody>\n",
              "</table>\n",
              "</div>"
            ],
            "text/plain": [
              "    x_i       y_i\n",
              "0   0.0  1.000000\n",
              "1   0.1  1.110000\n",
              "2   0.2  1.242050\n",
              "3   0.3  1.398465\n",
              "4   0.4  1.581804\n",
              "5   0.5  1.794894\n",
              "6   0.6  2.040857\n",
              "7   0.7  2.323147\n",
              "8   0.8  2.645578\n",
              "9   0.9  3.012364\n",
              "10  1.0  3.428162"
            ]
          },
          "metadata": {},
          "execution_count": 5
        }
      ]
    },
    {
      "cell_type": "markdown",
      "metadata": {
        "id": "_C7AANyn7IWK"
      },
      "source": [
        "---\n",
        "## Runge-Kutta Second Order\n",
        "\n",
        "$y_{i+1} = y_i + \\frac{1}{2}[k1 + k2]$\n",
        "\n",
        "$k_1 = h.f(x_i,y_i)$\n",
        "\n",
        "$k_2 = h.f(x_i + h, y_i + k_1)$"
      ]
    },
    {
      "cell_type": "code",
      "metadata": {
        "id": "x-9IU9DI-YUw"
      },
      "source": [
        "def RungeKutta2(func, h, x0, y0, xf):\n",
        "    '''\n",
        "    this functions uses `Runge-Kutta 2nd order` to compute solve derivetives numericaly\n",
        "\n",
        "    Parameters:\n",
        "\n",
        "    * func: function which gets x_i and y_i and returns dy/dx\n",
        "\n",
        "        >> dy/dx = func(x_i, y_i)\n",
        "    * h: step size of solving algorithm\n",
        "\n",
        "    * x0: initial value for x\n",
        "\n",
        "    * y0: solved equetion will return y0 for the given x0\n",
        "\n",
        "    * xf: final x which algorithm will solve up to it\n",
        "    '''\n",
        "    xi = x0\n",
        "    yi = y0\n",
        "\n",
        "    Xs,Ys = [],[]\n",
        "    K1s,K2s = [],[]\n",
        "    while xi <= xf:\n",
        "        \n",
        "        k1 = h * func(xi,yi)\n",
        "        k2 = h * func(xi+h, yi + k1)\n",
        "\n",
        "        yi1 = yi + 0.5*(k1 + k2)\n",
        "\n",
        "        K1s.append(k1)\n",
        "        K2s.append(k2)\n",
        "        Xs.append(xi)\n",
        "        Ys.append(yi)\n",
        "\n",
        "        xi += h\n",
        "        yi = yi1\n",
        "    \n",
        "    return pd.DataFrame({\"x_i\":Xs,\"k1_i\":K1s,\"K2_i\":K2s,\"y_i\":Ys})  "
      ],
      "execution_count": null,
      "outputs": []
    },
    {
      "cell_type": "code",
      "metadata": {
        "colab": {
          "base_uri": "https://localhost:8080/"
        },
        "id": "7e17nB_U-_ux",
        "outputId": "2f5e7fd5-99d6-48b9-8bf3-26b72348a58b"
      },
      "source": [
        "def func(x,y):\n",
        "    return x+ y\n",
        "\n",
        "RungeKutta2(func,0.1,0,1,1)"
      ],
      "execution_count": null,
      "outputs": [
        {
          "output_type": "execute_result",
          "data": {
            "text/html": [
              "<div>\n",
              "<style scoped>\n",
              "    .dataframe tbody tr th:only-of-type {\n",
              "        vertical-align: middle;\n",
              "    }\n",
              "\n",
              "    .dataframe tbody tr th {\n",
              "        vertical-align: top;\n",
              "    }\n",
              "\n",
              "    .dataframe thead th {\n",
              "        text-align: right;\n",
              "    }\n",
              "</style>\n",
              "<table border=\"1\" class=\"dataframe\">\n",
              "  <thead>\n",
              "    <tr style=\"text-align: right;\">\n",
              "      <th></th>\n",
              "      <th>x_i</th>\n",
              "      <th>k1_i</th>\n",
              "      <th>K2_i</th>\n",
              "      <th>y_i</th>\n",
              "    </tr>\n",
              "  </thead>\n",
              "  <tbody>\n",
              "    <tr>\n",
              "      <th>0</th>\n",
              "      <td>0.0</td>\n",
              "      <td>0.100000</td>\n",
              "      <td>0.120000</td>\n",
              "      <td>1.000000</td>\n",
              "    </tr>\n",
              "    <tr>\n",
              "      <th>1</th>\n",
              "      <td>0.1</td>\n",
              "      <td>0.121000</td>\n",
              "      <td>0.143100</td>\n",
              "      <td>1.110000</td>\n",
              "    </tr>\n",
              "    <tr>\n",
              "      <th>2</th>\n",
              "      <td>0.2</td>\n",
              "      <td>0.144205</td>\n",
              "      <td>0.168626</td>\n",
              "      <td>1.242050</td>\n",
              "    </tr>\n",
              "    <tr>\n",
              "      <th>3</th>\n",
              "      <td>0.3</td>\n",
              "      <td>0.169847</td>\n",
              "      <td>0.196831</td>\n",
              "      <td>1.398465</td>\n",
              "    </tr>\n",
              "    <tr>\n",
              "      <th>4</th>\n",
              "      <td>0.4</td>\n",
              "      <td>0.198180</td>\n",
              "      <td>0.227998</td>\n",
              "      <td>1.581804</td>\n",
              "    </tr>\n",
              "    <tr>\n",
              "      <th>5</th>\n",
              "      <td>0.5</td>\n",
              "      <td>0.229489</td>\n",
              "      <td>0.262438</td>\n",
              "      <td>1.794894</td>\n",
              "    </tr>\n",
              "    <tr>\n",
              "      <th>6</th>\n",
              "      <td>0.6</td>\n",
              "      <td>0.264086</td>\n",
              "      <td>0.300494</td>\n",
              "      <td>2.040857</td>\n",
              "    </tr>\n",
              "    <tr>\n",
              "      <th>7</th>\n",
              "      <td>0.7</td>\n",
              "      <td>0.302315</td>\n",
              "      <td>0.342546</td>\n",
              "      <td>2.323147</td>\n",
              "    </tr>\n",
              "    <tr>\n",
              "      <th>8</th>\n",
              "      <td>0.8</td>\n",
              "      <td>0.344558</td>\n",
              "      <td>0.389014</td>\n",
              "      <td>2.645578</td>\n",
              "    </tr>\n",
              "    <tr>\n",
              "      <th>9</th>\n",
              "      <td>0.9</td>\n",
              "      <td>0.391236</td>\n",
              "      <td>0.440360</td>\n",
              "      <td>3.012364</td>\n",
              "    </tr>\n",
              "    <tr>\n",
              "      <th>10</th>\n",
              "      <td>1.0</td>\n",
              "      <td>0.442816</td>\n",
              "      <td>0.497098</td>\n",
              "      <td>3.428162</td>\n",
              "    </tr>\n",
              "  </tbody>\n",
              "</table>\n",
              "</div>"
            ],
            "text/plain": [
              "    x_i      k1_i      K2_i       y_i\n",
              "0   0.0  0.100000  0.120000  1.000000\n",
              "1   0.1  0.121000  0.143100  1.110000\n",
              "2   0.2  0.144205  0.168626  1.242050\n",
              "3   0.3  0.169847  0.196831  1.398465\n",
              "4   0.4  0.198180  0.227998  1.581804\n",
              "5   0.5  0.229489  0.262438  1.794894\n",
              "6   0.6  0.264086  0.300494  2.040857\n",
              "7   0.7  0.302315  0.342546  2.323147\n",
              "8   0.8  0.344558  0.389014  2.645578\n",
              "9   0.9  0.391236  0.440360  3.012364\n",
              "10  1.0  0.442816  0.497098  3.428162"
            ]
          },
          "metadata": {},
          "execution_count": 7
        }
      ]
    },
    {
      "cell_type": "markdown",
      "metadata": {
        "id": "lnFLW-Sj_FgJ"
      },
      "source": [
        "---\n",
        "##Runge-Kutta MidPoint\n",
        "\n",
        "$y_{i+1} = y_i + h.f(x_i + \\frac{h}{2},y_i + \\frac{h}{2}.f(x_i, y_i))$"
      ]
    },
    {
      "cell_type": "code",
      "metadata": {
        "id": "8q4lE9qYHkzV"
      },
      "source": [
        "def RungeKuttaMidPoint(func, h, x0, y0, xf):\n",
        "    '''\n",
        "    this functions uses `Runge-Kutta Mid-Point` to compute solve derivetives numericaly\n",
        "\n",
        "    Parameters:\n",
        "\n",
        "    * func: function which gets x_i and y_i and returns dy/dx\n",
        "\n",
        "        >> dy/dx = func(x_i, y_i)\n",
        "\n",
        "    * h: step size of solving algorithm\n",
        "\n",
        "    * x0: initial value for x\n",
        "\n",
        "    * y0: solved equetion will return y0 for the given x0\n",
        "\n",
        "    * xf: final x which algorithm will solve up to it\n",
        "    '''\n",
        "    xi = x0\n",
        "    yi = y0\n",
        "\n",
        "    Xs,Ys = [],[]\n",
        "    while xi <= xf:\n",
        "        yi1 = yi + h*func(xi + h/2, yi + 0.5*h*func(xi,yi))\n",
        "        Xs.append(xi)\n",
        "        Ys.append(yi)\n",
        "\n",
        "        xi += h\n",
        "        yi = yi1\n",
        "    \n",
        "    return pd.DataFrame({\"x_i\":Xs,\"y_i\":Ys})  "
      ],
      "execution_count": null,
      "outputs": []
    },
    {
      "cell_type": "code",
      "metadata": {
        "colab": {
          "base_uri": "https://localhost:8080/"
        },
        "id": "DqXCconYIS_P",
        "outputId": "a7f98868-1214-472a-f9b3-c2a978fe1035"
      },
      "source": [
        "def func(x,y):\n",
        "    return x+ y\n",
        "\n",
        "RungeKuttaMidPoint(func,0.1,0,1,1)"
      ],
      "execution_count": null,
      "outputs": [
        {
          "output_type": "execute_result",
          "data": {
            "text/html": [
              "<div>\n",
              "<style scoped>\n",
              "    .dataframe tbody tr th:only-of-type {\n",
              "        vertical-align: middle;\n",
              "    }\n",
              "\n",
              "    .dataframe tbody tr th {\n",
              "        vertical-align: top;\n",
              "    }\n",
              "\n",
              "    .dataframe thead th {\n",
              "        text-align: right;\n",
              "    }\n",
              "</style>\n",
              "<table border=\"1\" class=\"dataframe\">\n",
              "  <thead>\n",
              "    <tr style=\"text-align: right;\">\n",
              "      <th></th>\n",
              "      <th>x_i</th>\n",
              "      <th>y_i</th>\n",
              "    </tr>\n",
              "  </thead>\n",
              "  <tbody>\n",
              "    <tr>\n",
              "      <th>0</th>\n",
              "      <td>0.0</td>\n",
              "      <td>1.000000</td>\n",
              "    </tr>\n",
              "    <tr>\n",
              "      <th>1</th>\n",
              "      <td>0.1</td>\n",
              "      <td>1.110000</td>\n",
              "    </tr>\n",
              "    <tr>\n",
              "      <th>2</th>\n",
              "      <td>0.2</td>\n",
              "      <td>1.242050</td>\n",
              "    </tr>\n",
              "    <tr>\n",
              "      <th>3</th>\n",
              "      <td>0.3</td>\n",
              "      <td>1.398465</td>\n",
              "    </tr>\n",
              "    <tr>\n",
              "      <th>4</th>\n",
              "      <td>0.4</td>\n",
              "      <td>1.581804</td>\n",
              "    </tr>\n",
              "    <tr>\n",
              "      <th>5</th>\n",
              "      <td>0.5</td>\n",
              "      <td>1.794894</td>\n",
              "    </tr>\n",
              "    <tr>\n",
              "      <th>6</th>\n",
              "      <td>0.6</td>\n",
              "      <td>2.040857</td>\n",
              "    </tr>\n",
              "    <tr>\n",
              "      <th>7</th>\n",
              "      <td>0.7</td>\n",
              "      <td>2.323147</td>\n",
              "    </tr>\n",
              "    <tr>\n",
              "      <th>8</th>\n",
              "      <td>0.8</td>\n",
              "      <td>2.645578</td>\n",
              "    </tr>\n",
              "    <tr>\n",
              "      <th>9</th>\n",
              "      <td>0.9</td>\n",
              "      <td>3.012364</td>\n",
              "    </tr>\n",
              "    <tr>\n",
              "      <th>10</th>\n",
              "      <td>1.0</td>\n",
              "      <td>3.428162</td>\n",
              "    </tr>\n",
              "  </tbody>\n",
              "</table>\n",
              "</div>"
            ],
            "text/plain": [
              "    x_i       y_i\n",
              "0   0.0  1.000000\n",
              "1   0.1  1.110000\n",
              "2   0.2  1.242050\n",
              "3   0.3  1.398465\n",
              "4   0.4  1.581804\n",
              "5   0.5  1.794894\n",
              "6   0.6  2.040857\n",
              "7   0.7  2.323147\n",
              "8   0.8  2.645578\n",
              "9   0.9  3.012364\n",
              "10  1.0  3.428162"
            ]
          },
          "metadata": {},
          "execution_count": 9
        }
      ]
    },
    {
      "cell_type": "markdown",
      "metadata": {
        "id": "TXmIubDhIWiF"
      },
      "source": [
        "---\n",
        "##Rulston's\n",
        "\n",
        "$ y_{i+1} = y_i + h.(\\frac{1}{3}k_1 + \\frac{2}{3}k_2)$\n",
        "\n",
        "* $k_1 = f(x_i, y_i)$\n",
        "* $k_2 = f(x_i + \\frac{3}{4}h, y_i + \\frac{3}{4}.k_1. h) $"
      ]
    },
    {
      "cell_type": "code",
      "metadata": {
        "id": "eHEk-jQpgoHe"
      },
      "source": [
        "def Rulstons(func, h, x0, y0, xf):\n",
        "    '''\n",
        "    this functions uses `Rulstons` to compute solve derivetives numericaly\n",
        "\n",
        "    Parameters:\n",
        "\n",
        "    * func: function which gets x_i and y_i and returns dy/dx\n",
        "\n",
        "        >> dy/dx = func(x_i, y_i)\n",
        "\n",
        "    * h: step size of solving algorithm\n",
        "\n",
        "    * x0: initial value for x\n",
        "\n",
        "    * y0: solved equetion will return y0 for the given x0\n",
        "\n",
        "    * xf: final x which algorithm will solve up to it\n",
        "    '''\n",
        "    xi = x0\n",
        "    yi = y0\n",
        "\n",
        "    Xs,Ys = [],[]\n",
        "    K1s,K2s = [],[]\n",
        "    while xi <= xf:\n",
        "        \n",
        "        k1 = func(xi,yi)\n",
        "        k2 = func(xi + 0.75*h, yi + 0.75*k1*h)\n",
        "\n",
        "        yi1 = yi + h*(k1/3 + 2*k2/3)\n",
        "\n",
        "        K1s.append(k1)\n",
        "        K2s.append(k2)\n",
        "        Xs.append(xi)\n",
        "        Ys.append(yi)\n",
        "\n",
        "        xi += h\n",
        "        yi = yi1\n",
        "    \n",
        "    return pd.DataFrame({\"x_i\":Xs,\"k1_i\":K1s,\"K2_i\":K2s,\"y_i\":Ys})  "
      ],
      "execution_count": null,
      "outputs": []
    },
    {
      "cell_type": "code",
      "metadata": {
        "colab": {
          "base_uri": "https://localhost:8080/"
        },
        "id": "k6FFWCdUj4ob",
        "outputId": "f2f637f4-5b5f-4b21-8753-fa77d4c13edd"
      },
      "source": [
        "def func(x,y):\n",
        "    return x+ y\n",
        "\n",
        "Rulstons(func,0.1,0,1,1)"
      ],
      "execution_count": null,
      "outputs": [
        {
          "output_type": "execute_result",
          "data": {
            "text/html": [
              "<div>\n",
              "<style scoped>\n",
              "    .dataframe tbody tr th:only-of-type {\n",
              "        vertical-align: middle;\n",
              "    }\n",
              "\n",
              "    .dataframe tbody tr th {\n",
              "        vertical-align: top;\n",
              "    }\n",
              "\n",
              "    .dataframe thead th {\n",
              "        text-align: right;\n",
              "    }\n",
              "</style>\n",
              "<table border=\"1\" class=\"dataframe\">\n",
              "  <thead>\n",
              "    <tr style=\"text-align: right;\">\n",
              "      <th></th>\n",
              "      <th>x_i</th>\n",
              "      <th>k1_i</th>\n",
              "      <th>K2_i</th>\n",
              "      <th>y_i</th>\n",
              "    </tr>\n",
              "  </thead>\n",
              "  <tbody>\n",
              "    <tr>\n",
              "      <th>0</th>\n",
              "      <td>0.0</td>\n",
              "      <td>1.000000</td>\n",
              "      <td>1.150000</td>\n",
              "      <td>1.000000</td>\n",
              "    </tr>\n",
              "    <tr>\n",
              "      <th>1</th>\n",
              "      <td>0.1</td>\n",
              "      <td>1.210000</td>\n",
              "      <td>1.375750</td>\n",
              "      <td>1.110000</td>\n",
              "    </tr>\n",
              "    <tr>\n",
              "      <th>2</th>\n",
              "      <td>0.2</td>\n",
              "      <td>1.442050</td>\n",
              "      <td>1.625204</td>\n",
              "      <td>1.242050</td>\n",
              "    </tr>\n",
              "    <tr>\n",
              "      <th>3</th>\n",
              "      <td>0.3</td>\n",
              "      <td>1.698465</td>\n",
              "      <td>1.900850</td>\n",
              "      <td>1.398465</td>\n",
              "    </tr>\n",
              "    <tr>\n",
              "      <th>4</th>\n",
              "      <td>0.4</td>\n",
              "      <td>1.981804</td>\n",
              "      <td>2.205439</td>\n",
              "      <td>1.581804</td>\n",
              "    </tr>\n",
              "    <tr>\n",
              "      <th>5</th>\n",
              "      <td>0.5</td>\n",
              "      <td>2.294894</td>\n",
              "      <td>2.542011</td>\n",
              "      <td>1.794894</td>\n",
              "    </tr>\n",
              "    <tr>\n",
              "      <th>6</th>\n",
              "      <td>0.6</td>\n",
              "      <td>2.640857</td>\n",
              "      <td>2.913922</td>\n",
              "      <td>2.040857</td>\n",
              "    </tr>\n",
              "    <tr>\n",
              "      <th>7</th>\n",
              "      <td>0.7</td>\n",
              "      <td>3.023147</td>\n",
              "      <td>3.324883</td>\n",
              "      <td>2.323147</td>\n",
              "    </tr>\n",
              "    <tr>\n",
              "      <th>8</th>\n",
              "      <td>0.8</td>\n",
              "      <td>3.445578</td>\n",
              "      <td>3.778996</td>\n",
              "      <td>2.645578</td>\n",
              "    </tr>\n",
              "    <tr>\n",
              "      <th>9</th>\n",
              "      <td>0.9</td>\n",
              "      <td>3.912364</td>\n",
              "      <td>4.280791</td>\n",
              "      <td>3.012364</td>\n",
              "    </tr>\n",
              "    <tr>\n",
              "      <th>10</th>\n",
              "      <td>1.0</td>\n",
              "      <td>4.428162</td>\n",
              "      <td>4.835274</td>\n",
              "      <td>3.428162</td>\n",
              "    </tr>\n",
              "  </tbody>\n",
              "</table>\n",
              "</div>"
            ],
            "text/plain": [
              "    x_i      k1_i      K2_i       y_i\n",
              "0   0.0  1.000000  1.150000  1.000000\n",
              "1   0.1  1.210000  1.375750  1.110000\n",
              "2   0.2  1.442050  1.625204  1.242050\n",
              "3   0.3  1.698465  1.900850  1.398465\n",
              "4   0.4  1.981804  2.205439  1.581804\n",
              "5   0.5  2.294894  2.542011  1.794894\n",
              "6   0.6  2.640857  2.913922  2.040857\n",
              "7   0.7  3.023147  3.324883  2.323147\n",
              "8   0.8  3.445578  3.778996  2.645578\n",
              "9   0.9  3.912364  4.280791  3.012364\n",
              "10  1.0  4.428162  4.835274  3.428162"
            ]
          },
          "metadata": {},
          "execution_count": 11
        }
      ]
    },
    {
      "cell_type": "markdown",
      "metadata": {
        "id": "B6jjmahfkDEP"
      },
      "source": [
        "---\n",
        "##Runge-Kutta third order\n",
        "\n",
        "$y_{i+1} = y_i + \\frac{1}{6}(k_1 + 4.k_2 + k_3)$\n",
        "\n",
        "* $k_1 = h.f(x_i, y_i)$\n",
        "\n",
        "* $k_2 = h.f(x_i + \\frac{h}{2}, y_i + \\frac{k_i}{2})$\n",
        "\n",
        "* $k_3 = h.f(x_i + h, y_i -k_1 + 2.k_2)$\n"
      ]
    },
    {
      "cell_type": "code",
      "metadata": {
        "id": "gx4gA4rjnR5w"
      },
      "source": [
        "def RungeKutta3(func, h, x0, y0, xf):\n",
        "    '''\n",
        "    this functions uses `Runge-Kutta 3rd Order` to compute solve derivetives numericaly\n",
        "\n",
        "    Parameters:\n",
        "\n",
        "    * func: function which gets x_i and y_i and returns dy/dx\n",
        "\n",
        "        >> dy/dx = func(x_i, y_i)\n",
        "        \n",
        "    * h: step size of solving algorithm\n",
        "\n",
        "    * x0: initial value for x\n",
        "\n",
        "    * y0: solved equetion will return y0 for the given x0\n",
        "\n",
        "    * xf: final x which algorithm will solve up to it\n",
        "    '''\n",
        "    xi = x0\n",
        "    yi = y0\n",
        "\n",
        "    Xs, Ys = [],[]\n",
        "    K1s, K2s, K3s = [], [], []\n",
        "    while xi <= xf:\n",
        "        \n",
        "        k1 = h * func(xi,yi)\n",
        "        k2 = h * func(xi + h/2, yi + h/2)\n",
        "        k3 = h * func(xi + h, yi - k1 + 2*k2)\n",
        "\n",
        "        yi1 = yi + (k1 + 4*k2 + k3)/6\n",
        "\n",
        "        K1s.append(k1)\n",
        "        K2s.append(k2)\n",
        "        K3s.append(k3)\n",
        "        Xs.append(xi)\n",
        "        Ys.append(yi)\n",
        "\n",
        "        xi += h\n",
        "        yi = yi1\n",
        "    \n",
        "    return pd.DataFrame({\"x_i\":Xs, \"k1_i\":K1s, \"K2_i\":K2s, \"K3_i\":K3s ,\"y_i\":Ys})  "
      ],
      "execution_count": null,
      "outputs": []
    },
    {
      "cell_type": "code",
      "metadata": {
        "colab": {
          "base_uri": "https://localhost:8080/"
        },
        "id": "WqjjC4sXoYib",
        "outputId": "1d56c6f6-87d0-41bd-cfe3-e47041f4cd13"
      },
      "source": [
        "def func(x,y):\n",
        "    return -2*x - y\n",
        "\n",
        "RungeKutta3(func, h = 0.1, x0 = 0,y0 = -1,xf = 0.3)"
      ],
      "execution_count": null,
      "outputs": [
        {
          "output_type": "execute_result",
          "data": {
            "text/html": [
              "<div>\n",
              "<style scoped>\n",
              "    .dataframe tbody tr th:only-of-type {\n",
              "        vertical-align: middle;\n",
              "    }\n",
              "\n",
              "    .dataframe tbody tr th {\n",
              "        vertical-align: top;\n",
              "    }\n",
              "\n",
              "    .dataframe thead th {\n",
              "        text-align: right;\n",
              "    }\n",
              "</style>\n",
              "<table border=\"1\" class=\"dataframe\">\n",
              "  <thead>\n",
              "    <tr style=\"text-align: right;\">\n",
              "      <th></th>\n",
              "      <th>x_i</th>\n",
              "      <th>k1_i</th>\n",
              "      <th>K2_i</th>\n",
              "      <th>K3_i</th>\n",
              "      <th>y_i</th>\n",
              "    </tr>\n",
              "  </thead>\n",
              "  <tbody>\n",
              "    <tr>\n",
              "      <th>0</th>\n",
              "      <td>0.0</td>\n",
              "      <td>0.100000</td>\n",
              "      <td>0.085000</td>\n",
              "      <td>0.073000</td>\n",
              "      <td>-1.000000</td>\n",
              "    </tr>\n",
              "    <tr>\n",
              "      <th>1</th>\n",
              "      <td>0.1</td>\n",
              "      <td>0.071450</td>\n",
              "      <td>0.056450</td>\n",
              "      <td>0.047305</td>\n",
              "      <td>-0.914500</td>\n",
              "    </tr>\n",
              "    <tr>\n",
              "      <th>2</th>\n",
              "      <td>0.2</td>\n",
              "      <td>0.045707</td>\n",
              "      <td>0.030707</td>\n",
              "      <td>0.024137</td>\n",
              "      <td>-0.857074</td>\n",
              "    </tr>\n",
              "  </tbody>\n",
              "</table>\n",
              "</div>"
            ],
            "text/plain": [
              "   x_i      k1_i      K2_i      K3_i       y_i\n",
              "0  0.0  0.100000  0.085000  0.073000 -1.000000\n",
              "1  0.1  0.071450  0.056450  0.047305 -0.914500\n",
              "2  0.2  0.045707  0.030707  0.024137 -0.857074"
            ]
          },
          "metadata": {},
          "execution_count": 13
        }
      ]
    },
    {
      "cell_type": "markdown",
      "metadata": {
        "id": "ihhiqnT9oehg"
      },
      "source": [
        "--- \n",
        "\n",
        "##Nystrom \n",
        "\n",
        "$y_{i+1} = y_i + \\frac{h}{9}(2k_1 + 3k_2 +4k_3)$\n",
        "\n",
        "* $k_1 = f(x_i, y_i)$\n",
        "\n",
        "* $k_2 = f(x_i + \\frac{2}{3}h, y_i + \\frac{2}{3}k_1 h)$\n",
        "\n",
        "* $k_3 = f(x_i + \\frac{2}{3}h, y_i + \\frac{2}{3}k_2 h)$"
      ]
    },
    {
      "cell_type": "code",
      "metadata": {
        "id": "dYZ6oJAWrE9Z"
      },
      "source": [
        "def Nystrom(func, h, x0, y0, xf):\n",
        "    '''\n",
        "    this functions uses `Nystrom` to compute solve derivetives numericaly\n",
        "\n",
        "    Parameters:\n",
        "\n",
        "    * func: function which gets x_i and y_i and returns dy/dx\n",
        "\n",
        "        >> dy/dx = func(x_i, y_i)\n",
        "        \n",
        "    * h: step size of solving algorithm\n",
        "\n",
        "    * x0: initial value for x\n",
        "\n",
        "    * y0: solved equetion will return y0 for the given x0\n",
        "\n",
        "    * xf: final x which algorithm will solve up to it\n",
        "    '''\n",
        "    xi = x0\n",
        "    yi = y0\n",
        "\n",
        "    Xs, Ys = [],[]\n",
        "    K1s, K2s, K3s = [], [], []\n",
        "    while xi <= xf:\n",
        "        \n",
        "        k1 = func(xi,yi)\n",
        "        k2 = func(xi + h/2, yi + k1*h/2)\n",
        "        k3 = func(xi + 0.75*h, yi + 0.75*k2*h)\n",
        "\n",
        "        yi1 = yi + h*(k1 + 3*k2 + 4*k3)/9\n",
        "\n",
        "        K1s.append(k1)\n",
        "        K2s.append(k2)\n",
        "        K3s.append(k3)\n",
        "        Xs.append(xi)\n",
        "        Ys.append(yi)\n",
        "\n",
        "        xi += h\n",
        "        yi = yi1\n",
        "    \n",
        "    return pd.DataFrame({\"x_i\":Xs, \"k1_i\":K1s, \"K2_i\":K2s, \"K3_i\":K3s ,\"y_i\":Ys})  "
      ],
      "execution_count": null,
      "outputs": []
    },
    {
      "cell_type": "code",
      "metadata": {
        "colab": {
          "base_uri": "https://localhost:8080/"
        },
        "id": "7gXb0fZAuWMU",
        "outputId": "22a56cae-9851-4c69-ab60-f392caedf3cb"
      },
      "source": [
        "def func(x,y):\n",
        "    return x+ y\n",
        "\n",
        "Nystrom(func,0.1,0,1,1)"
      ],
      "execution_count": null,
      "outputs": [
        {
          "output_type": "execute_result",
          "data": {
            "text/html": [
              "<div>\n",
              "<style scoped>\n",
              "    .dataframe tbody tr th:only-of-type {\n",
              "        vertical-align: middle;\n",
              "    }\n",
              "\n",
              "    .dataframe tbody tr th {\n",
              "        vertical-align: top;\n",
              "    }\n",
              "\n",
              "    .dataframe thead th {\n",
              "        text-align: right;\n",
              "    }\n",
              "</style>\n",
              "<table border=\"1\" class=\"dataframe\">\n",
              "  <thead>\n",
              "    <tr style=\"text-align: right;\">\n",
              "      <th></th>\n",
              "      <th>x_i</th>\n",
              "      <th>k1_i</th>\n",
              "      <th>K2_i</th>\n",
              "      <th>K3_i</th>\n",
              "      <th>y_i</th>\n",
              "    </tr>\n",
              "  </thead>\n",
              "  <tbody>\n",
              "    <tr>\n",
              "      <th>0</th>\n",
              "      <td>0.0</td>\n",
              "      <td>1.000000</td>\n",
              "      <td>1.100000</td>\n",
              "      <td>1.157500</td>\n",
              "      <td>1.000000</td>\n",
              "    </tr>\n",
              "    <tr>\n",
              "      <th>1</th>\n",
              "      <td>0.1</td>\n",
              "      <td>1.199222</td>\n",
              "      <td>1.309183</td>\n",
              "      <td>1.372411</td>\n",
              "      <td>1.099222</td>\n",
              "    </tr>\n",
              "    <tr>\n",
              "      <th>2</th>\n",
              "      <td>0.2</td>\n",
              "      <td>1.417182</td>\n",
              "      <td>1.538042</td>\n",
              "      <td>1.607536</td>\n",
              "      <td>1.217182</td>\n",
              "    </tr>\n",
              "    <tr>\n",
              "      <th>3</th>\n",
              "      <td>0.3</td>\n",
              "      <td>1.655643</td>\n",
              "      <td>1.788425</td>\n",
              "      <td>1.864775</td>\n",
              "      <td>1.355643</td>\n",
              "    </tr>\n",
              "    <tr>\n",
              "      <th>4</th>\n",
              "      <td>0.4</td>\n",
              "      <td>1.916532</td>\n",
              "      <td>2.062359</td>\n",
              "      <td>2.146209</td>\n",
              "      <td>1.516532</td>\n",
              "    </tr>\n",
              "    <tr>\n",
              "      <th>5</th>\n",
              "      <td>0.5</td>\n",
              "      <td>2.201959</td>\n",
              "      <td>2.362057</td>\n",
              "      <td>2.454113</td>\n",
              "      <td>1.701959</td>\n",
              "    </tr>\n",
              "    <tr>\n",
              "      <th>6</th>\n",
              "      <td>0.6</td>\n",
              "      <td>2.514232</td>\n",
              "      <td>2.689944</td>\n",
              "      <td>2.790978</td>\n",
              "      <td>1.914232</td>\n",
              "    </tr>\n",
              "    <tr>\n",
              "      <th>7</th>\n",
              "      <td>0.7</td>\n",
              "      <td>2.855877</td>\n",
              "      <td>3.048670</td>\n",
              "      <td>3.159527</td>\n",
              "      <td>2.155877</td>\n",
              "    </tr>\n",
              "    <tr>\n",
              "      <th>8</th>\n",
              "      <td>0.8</td>\n",
              "      <td>3.229654</td>\n",
              "      <td>3.441137</td>\n",
              "      <td>3.562740</td>\n",
              "      <td>2.429654</td>\n",
              "    </tr>\n",
              "    <tr>\n",
              "      <th>9</th>\n",
              "      <td>0.9</td>\n",
              "      <td>3.638588</td>\n",
              "      <td>3.870517</td>\n",
              "      <td>4.003877</td>\n",
              "      <td>2.738588</td>\n",
              "    </tr>\n",
              "    <tr>\n",
              "      <th>10</th>\n",
              "      <td>1.0</td>\n",
              "      <td>4.085984</td>\n",
              "      <td>4.340283</td>\n",
              "      <td>4.486505</td>\n",
              "      <td>3.085984</td>\n",
              "    </tr>\n",
              "  </tbody>\n",
              "</table>\n",
              "</div>"
            ],
            "text/plain": [
              "    x_i      k1_i      K2_i      K3_i       y_i\n",
              "0   0.0  1.000000  1.100000  1.157500  1.000000\n",
              "1   0.1  1.199222  1.309183  1.372411  1.099222\n",
              "2   0.2  1.417182  1.538042  1.607536  1.217182\n",
              "3   0.3  1.655643  1.788425  1.864775  1.355643\n",
              "4   0.4  1.916532  2.062359  2.146209  1.516532\n",
              "5   0.5  2.201959  2.362057  2.454113  1.701959\n",
              "6   0.6  2.514232  2.689944  2.790978  1.914232\n",
              "7   0.7  2.855877  3.048670  3.159527  2.155877\n",
              "8   0.8  3.229654  3.441137  3.562740  2.429654\n",
              "9   0.9  3.638588  3.870517  4.003877  2.738588\n",
              "10  1.0  4.085984  4.340283  4.486505  3.085984"
            ]
          },
          "metadata": {},
          "execution_count": 15
        }
      ]
    },
    {
      "cell_type": "markdown",
      "metadata": {
        "id": "20CyM8GduaFD"
      },
      "source": [
        "---\n",
        "## Mostly Efficient\n",
        "\n",
        "$y_{i+1} = y_i + \\frac{h}{8}(2k_1 + 3k_2 + 3k_3)$\n",
        "\n",
        "* $k_1 = f(x_i, y_i)$\n",
        "\n",
        "* $k_2 = f(x_i + \\frac{2}{3}h, y_i + \\frac{2}{3} k_1 h)$\n",
        "\n",
        "* $k_3 = f(x_i + \\frac{2}{3}h, y_i + \\frac{2}{3}k_2 h)$"
      ]
    },
    {
      "cell_type": "code",
      "metadata": {
        "id": "TaHdPJog0faJ"
      },
      "source": [
        "def MostlyEfficient(func, h, x0, xf, y0):\n",
        "    '''\n",
        "    this functions uses `Mostly Efficient` to compute solve derivetives numericaly\n",
        "\n",
        "    Parameters:\n",
        "\n",
        "    * func: function which gets x_i and y_i and returns dy/dx\n",
        "\n",
        "        >> dy/dx = func(x_i, y_i)\n",
        "        \n",
        "    * h: step size of solving algorithm\n",
        "\n",
        "    * x0: initial value for x\n",
        "\n",
        "    * y0: solved equetion will return y0 for the given x0\n",
        "\n",
        "    * xf: final x which algorithm will solve up to it\n",
        "    '''\n",
        "    xi = x0\n",
        "    yi = y0\n",
        "\n",
        "    Xs, Ys = [],[]\n",
        "    K1s, K2s, K3s = [], [], []\n",
        "    while xi <= xf:\n",
        "        \n",
        "        k1 = h*func(xi,yi)\n",
        "        k2 = h*func(xi + h*2/3, yi + k1*2/3)\n",
        "        k3 = h*func(xi + h*2/3, yi + k2*2/3)\n",
        "\n",
        "        yi1 = yi + (2*k1 + 3*k2 + 3*k3)/8\n",
        "\n",
        "        K1s.append(k1)\n",
        "        K2s.append(k2)\n",
        "        K3s.append(k3)\n",
        "        Xs.append(xi)\n",
        "        Ys.append(yi)\n",
        "\n",
        "        xi += h\n",
        "        yi = yi1\n",
        "    \n",
        "    return pd.DataFrame({\"x_i\":Xs, \"k1_i\":K1s, \"K2_i\":K2s, \"K3_i\":K3s ,\"y_i\":Ys})  "
      ],
      "execution_count": null,
      "outputs": []
    },
    {
      "cell_type": "code",
      "metadata": {
        "colab": {
          "base_uri": "https://localhost:8080/"
        },
        "id": "TMMFWBI21Fdl",
        "outputId": "01da514f-8482-486a-bd80-4186885dec3d"
      },
      "source": [
        "def func(x,y):\n",
        "    return x+ y\n",
        "\n",
        "MostlyEfficient(func,0.1,0,1,1)"
      ],
      "execution_count": null,
      "outputs": [
        {
          "output_type": "execute_result",
          "data": {
            "text/html": [
              "<div>\n",
              "<style scoped>\n",
              "    .dataframe tbody tr th:only-of-type {\n",
              "        vertical-align: middle;\n",
              "    }\n",
              "\n",
              "    .dataframe tbody tr th {\n",
              "        vertical-align: top;\n",
              "    }\n",
              "\n",
              "    .dataframe thead th {\n",
              "        text-align: right;\n",
              "    }\n",
              "</style>\n",
              "<table border=\"1\" class=\"dataframe\">\n",
              "  <thead>\n",
              "    <tr style=\"text-align: right;\">\n",
              "      <th></th>\n",
              "      <th>x_i</th>\n",
              "      <th>k1_i</th>\n",
              "      <th>K2_i</th>\n",
              "      <th>K3_i</th>\n",
              "      <th>y_i</th>\n",
              "    </tr>\n",
              "  </thead>\n",
              "  <tbody>\n",
              "    <tr>\n",
              "      <th>0</th>\n",
              "      <td>0.0</td>\n",
              "      <td>0.100000</td>\n",
              "      <td>0.113333</td>\n",
              "      <td>0.114222</td>\n",
              "      <td>1.000000</td>\n",
              "    </tr>\n",
              "    <tr>\n",
              "      <th>1</th>\n",
              "      <td>0.1</td>\n",
              "      <td>0.121033</td>\n",
              "      <td>0.135769</td>\n",
              "      <td>0.136751</td>\n",
              "      <td>1.110333</td>\n",
              "    </tr>\n",
              "    <tr>\n",
              "      <th>2</th>\n",
              "      <td>0.2</td>\n",
              "      <td>0.144279</td>\n",
              "      <td>0.160564</td>\n",
              "      <td>0.161650</td>\n",
              "      <td>1.242787</td>\n",
              "    </tr>\n",
              "    <tr>\n",
              "      <th>3</th>\n",
              "      <td>0.3</td>\n",
              "      <td>0.169969</td>\n",
              "      <td>0.187967</td>\n",
              "      <td>0.189166</td>\n",
              "      <td>1.399686</td>\n",
              "    </tr>\n",
              "    <tr>\n",
              "      <th>4</th>\n",
              "      <td>0.4</td>\n",
              "      <td>0.198360</td>\n",
              "      <td>0.218251</td>\n",
              "      <td>0.219577</td>\n",
              "      <td>1.583603</td>\n",
              "    </tr>\n",
              "    <tr>\n",
              "      <th>5</th>\n",
              "      <td>0.5</td>\n",
              "      <td>0.229738</td>\n",
              "      <td>0.251720</td>\n",
              "      <td>0.253186</td>\n",
              "      <td>1.797379</td>\n",
              "    </tr>\n",
              "    <tr>\n",
              "      <th>6</th>\n",
              "      <td>0.6</td>\n",
              "      <td>0.264415</td>\n",
              "      <td>0.288710</td>\n",
              "      <td>0.290329</td>\n",
              "      <td>2.044153</td>\n",
              "    </tr>\n",
              "    <tr>\n",
              "      <th>7</th>\n",
              "      <td>0.7</td>\n",
              "      <td>0.302740</td>\n",
              "      <td>0.329589</td>\n",
              "      <td>0.331379</td>\n",
              "      <td>2.327397</td>\n",
              "    </tr>\n",
              "    <tr>\n",
              "      <th>8</th>\n",
              "      <td>0.8</td>\n",
              "      <td>0.345094</td>\n",
              "      <td>0.374767</td>\n",
              "      <td>0.376746</td>\n",
              "      <td>2.650945</td>\n",
              "    </tr>\n",
              "    <tr>\n",
              "      <th>9</th>\n",
              "      <td>0.9</td>\n",
              "      <td>0.391904</td>\n",
              "      <td>0.424697</td>\n",
              "      <td>0.426883</td>\n",
              "      <td>3.019036</td>\n",
              "    </tr>\n",
              "    <tr>\n",
              "      <th>10</th>\n",
              "      <td>1.0</td>\n",
              "      <td>0.443635</td>\n",
              "      <td>0.479878</td>\n",
              "      <td>0.482294</td>\n",
              "      <td>3.436355</td>\n",
              "    </tr>\n",
              "  </tbody>\n",
              "</table>\n",
              "</div>"
            ],
            "text/plain": [
              "    x_i      k1_i      K2_i      K3_i       y_i\n",
              "0   0.0  0.100000  0.113333  0.114222  1.000000\n",
              "1   0.1  0.121033  0.135769  0.136751  1.110333\n",
              "2   0.2  0.144279  0.160564  0.161650  1.242787\n",
              "3   0.3  0.169969  0.187967  0.189166  1.399686\n",
              "4   0.4  0.198360  0.218251  0.219577  1.583603\n",
              "5   0.5  0.229738  0.251720  0.253186  1.797379\n",
              "6   0.6  0.264415  0.288710  0.290329  2.044153\n",
              "7   0.7  0.302740  0.329589  0.331379  2.327397\n",
              "8   0.8  0.345094  0.374767  0.376746  2.650945\n",
              "9   0.9  0.391904  0.424697  0.426883  3.019036\n",
              "10  1.0  0.443635  0.479878  0.482294  3.436355"
            ]
          },
          "metadata": {},
          "execution_count": 17
        }
      ]
    },
    {
      "cell_type": "markdown",
      "metadata": {
        "id": "bd-_FglI1Iln"
      },
      "source": [
        "---\n",
        "##Runge-Kutta 4th Order\n",
        "\n",
        "$y_{i+1} = y_i + \\frac{1}{6}(k_1 + 2k_2 + 2k_3 + k_4)$\n",
        "\n",
        "* $k_1 = hf(x_i,y_i)$\n",
        "\n",
        "* $k_2 = hf(x_i + \\frac{h}{2}, y_i + \\frac{k_1}{2})$\n",
        "\n",
        "* $k_3 = h.f(x_i + \\frac{h}{2}, y_i + \\frac{k_2}{2})$\n",
        "\n",
        "* $k_4 = hf(x_i + h, y_i + k_3)$"
      ]
    },
    {
      "cell_type": "code",
      "metadata": {
        "id": "SmSn6NnX2DuD"
      },
      "source": [
        "def RungeKutta4(func, h, x0, xf, y0):\n",
        "    '''\n",
        "    this functions uses `Runge-Kutta 4th order` to compute solve derivetives numericaly\n",
        "\n",
        "    Parameters:\n",
        "\n",
        "    * func: function which gets x_i and y_i and returns dy/dx\n",
        "\n",
        "        >> dy/dx = func(x_i, y_i)\n",
        "        \n",
        "    * h: step size of solving algorithm\n",
        "\n",
        "    * x0: initial value for x\n",
        "\n",
        "    * y0: solved equetion will return y0 for the given x0\n",
        "\n",
        "    * xf: final x which algorithm will solve up to it\n",
        "    '''\n",
        "    xi = x0\n",
        "    yi = y0\n",
        "\n",
        "    Xs, Ys = [],[]\n",
        "    K1s, K2s, K3s = [], [], []\n",
        "    while xi <= xf:\n",
        "        \n",
        "        k1 = h*func(xi,yi)\n",
        "        k2 = h*func(xi + h/2, yi + k1/2)\n",
        "        k3 = h*func(xi + h/2, yi + k2/2)\n",
        "        k4 = h*func(xi + h, yi + k3)\n",
        "\n",
        "        yi1 = yi + (k1 + 2*k2 + 2*k3 + k4)/6\n",
        "\n",
        "        K1s.append(k1)\n",
        "        K2s.append(k2)\n",
        "        K3s.append(k3)\n",
        "        Xs.append(xi)\n",
        "        Ys.append(yi)\n",
        "\n",
        "        xi += h\n",
        "        yi = yi1\n",
        "    \n",
        "    return pd.DataFrame({\"x_i\":Xs, \"k1_i\":K1s, \"K2_i\":K2s, \"K3_i\":K3s ,\"y_i\":Ys})  "
      ],
      "execution_count": null,
      "outputs": []
    },
    {
      "cell_type": "code",
      "metadata": {
        "colab": {
          "base_uri": "https://localhost:8080/"
        },
        "id": "YbDgbAsr2iot",
        "outputId": "db1f631c-04bf-47d1-9895-2e5298e93e2a"
      },
      "source": [
        "def func(x,y):\n",
        "    return x+ y\n",
        "\n",
        "RungeKutta4(func,0.001,0,1,1)"
      ],
      "execution_count": null,
      "outputs": [
        {
          "output_type": "execute_result",
          "data": {
            "text/html": [
              "<div>\n",
              "<style scoped>\n",
              "    .dataframe tbody tr th:only-of-type {\n",
              "        vertical-align: middle;\n",
              "    }\n",
              "\n",
              "    .dataframe tbody tr th {\n",
              "        vertical-align: top;\n",
              "    }\n",
              "\n",
              "    .dataframe thead th {\n",
              "        text-align: right;\n",
              "    }\n",
              "</style>\n",
              "<table border=\"1\" class=\"dataframe\">\n",
              "  <thead>\n",
              "    <tr style=\"text-align: right;\">\n",
              "      <th></th>\n",
              "      <th>x_i</th>\n",
              "      <th>k1_i</th>\n",
              "      <th>K2_i</th>\n",
              "      <th>K3_i</th>\n",
              "      <th>y_i</th>\n",
              "    </tr>\n",
              "  </thead>\n",
              "  <tbody>\n",
              "    <tr>\n",
              "      <th>0</th>\n",
              "      <td>0.000</td>\n",
              "      <td>0.001000</td>\n",
              "      <td>0.001001</td>\n",
              "      <td>0.001001</td>\n",
              "      <td>1.000000</td>\n",
              "    </tr>\n",
              "    <tr>\n",
              "      <th>1</th>\n",
              "      <td>0.001</td>\n",
              "      <td>0.001002</td>\n",
              "      <td>0.001003</td>\n",
              "      <td>0.001003</td>\n",
              "      <td>1.001001</td>\n",
              "    </tr>\n",
              "    <tr>\n",
              "      <th>2</th>\n",
              "      <td>0.002</td>\n",
              "      <td>0.001004</td>\n",
              "      <td>0.001005</td>\n",
              "      <td>0.001005</td>\n",
              "      <td>1.002004</td>\n",
              "    </tr>\n",
              "    <tr>\n",
              "      <th>3</th>\n",
              "      <td>0.003</td>\n",
              "      <td>0.001006</td>\n",
              "      <td>0.001007</td>\n",
              "      <td>0.001007</td>\n",
              "      <td>1.003009</td>\n",
              "    </tr>\n",
              "    <tr>\n",
              "      <th>4</th>\n",
              "      <td>0.004</td>\n",
              "      <td>0.001008</td>\n",
              "      <td>0.001009</td>\n",
              "      <td>0.001009</td>\n",
              "      <td>1.004016</td>\n",
              "    </tr>\n",
              "    <tr>\n",
              "      <th>...</th>\n",
              "      <td>...</td>\n",
              "      <td>...</td>\n",
              "      <td>...</td>\n",
              "      <td>...</td>\n",
              "      <td>...</td>\n",
              "    </tr>\n",
              "    <tr>\n",
              "      <th>995</th>\n",
              "      <td>0.995</td>\n",
              "      <td>0.004409</td>\n",
              "      <td>0.004412</td>\n",
              "      <td>0.004412</td>\n",
              "      <td>3.414449</td>\n",
              "    </tr>\n",
              "    <tr>\n",
              "      <th>996</th>\n",
              "      <td>0.996</td>\n",
              "      <td>0.004415</td>\n",
              "      <td>0.004418</td>\n",
              "      <td>0.004418</td>\n",
              "      <td>3.418861</td>\n",
              "    </tr>\n",
              "    <tr>\n",
              "      <th>997</th>\n",
              "      <td>0.997</td>\n",
              "      <td>0.004420</td>\n",
              "      <td>0.004423</td>\n",
              "      <td>0.004423</td>\n",
              "      <td>3.423278</td>\n",
              "    </tr>\n",
              "    <tr>\n",
              "      <th>998</th>\n",
              "      <td>0.998</td>\n",
              "      <td>0.004426</td>\n",
              "      <td>0.004428</td>\n",
              "      <td>0.004428</td>\n",
              "      <td>3.427701</td>\n",
              "    </tr>\n",
              "    <tr>\n",
              "      <th>999</th>\n",
              "      <td>0.999</td>\n",
              "      <td>0.004431</td>\n",
              "      <td>0.004434</td>\n",
              "      <td>0.004434</td>\n",
              "      <td>3.432130</td>\n",
              "    </tr>\n",
              "  </tbody>\n",
              "</table>\n",
              "<p>1000 rows × 5 columns</p>\n",
              "</div>"
            ],
            "text/plain": [
              "       x_i      k1_i      K2_i      K3_i       y_i\n",
              "0    0.000  0.001000  0.001001  0.001001  1.000000\n",
              "1    0.001  0.001002  0.001003  0.001003  1.001001\n",
              "2    0.002  0.001004  0.001005  0.001005  1.002004\n",
              "3    0.003  0.001006  0.001007  0.001007  1.003009\n",
              "4    0.004  0.001008  0.001009  0.001009  1.004016\n",
              "..     ...       ...       ...       ...       ...\n",
              "995  0.995  0.004409  0.004412  0.004412  3.414449\n",
              "996  0.996  0.004415  0.004418  0.004418  3.418861\n",
              "997  0.997  0.004420  0.004423  0.004423  3.423278\n",
              "998  0.998  0.004426  0.004428  0.004428  3.427701\n",
              "999  0.999  0.004431  0.004434  0.004434  3.432130\n",
              "\n",
              "[1000 rows x 5 columns]"
            ]
          },
          "metadata": {},
          "execution_count": 19
        }
      ]
    },
    {
      "cell_type": "markdown",
      "source": [
        "---\n",
        "---\n",
        "---\n",
        "#Root Finding"
      ],
      "metadata": {
        "id": "VTt-luRk2mk2"
      }
    },
    {
      "cell_type": "markdown",
      "source": [
        "## Bisection"
      ],
      "metadata": {
        "id": "z8TdlSmdZ_Mf"
      }
    },
    {
      "cell_type": "code",
      "source": [
        "def bisection(func, xu, xl,error,max_iter=20):\n",
        "    '''\n",
        "    This function uses Bisection method\n",
        "\n",
        "    * func: the function which we want to find the root of it\n",
        "    \n",
        "    >>> y = func(x)\n",
        "    >>> 0 = func( x=root)\n",
        "\n",
        "    * xu: lower bound,  xu < xl\n",
        "\n",
        "    * xl: upper bound, xu < xl\n",
        "\n",
        "    *error: finishing error condition when result error is less than given erro\n",
        "\n",
        "    *max_iter: maximum number of iterations\n",
        "\n",
        "    '''\n",
        "    \n",
        "    xui = xu\n",
        "    xli = xl\n",
        "    error_i = xli - xui\n",
        "\n",
        "    l = []\n",
        "    xr_last = 0\n",
        "    i = 0\n",
        "    while error_i > error:\n",
        "        d = {}\n",
        "\n",
        "        xr = (xli + xui)/2\n",
        "\n",
        "        d[\"xu\"] = xui\n",
        "        d[\"xl\"] = xli\n",
        "        d[\"xr\"] = xr\n",
        "        d[\"f(xu)\"] = func(xui)\n",
        "        d[\"f(xl)\"] = func(xli)\n",
        "        d[\"f(xr)\"] = func(xr)\n",
        "\n",
        "        if func(xr)*func(xli) > 0:\n",
        "            xli = xr\n",
        "            d[\"f(xr).(xl)\"] = \"+\"\n",
        "        else:\n",
        "            xui = xr\n",
        "            d[\"f(xr).(xl)\"] = \"-\"\n",
        "        \n",
        "\n",
        "        error_i = abs(xr-xr_last)\n",
        "        d[\"error\"] = error_i\n",
        "        xr_last = xr\n",
        "\n",
        "        if i > max_iter:\n",
        "            break\n",
        "        \n",
        "        l.append(d)\n",
        "    \n",
        "    return pd.DataFrame(l)"
      ],
      "metadata": {
        "id": "MEApJTihxIz0"
      },
      "execution_count": null,
      "outputs": []
    },
    {
      "cell_type": "code",
      "source": [
        "def f(x):\n",
        "    return x - 0.5*np.cos(x)\n",
        "\n",
        "bisection(f,0,1,0.001)"
      ],
      "metadata": {
        "colab": {
          "base_uri": "https://localhost:8080/"
        },
        "id": "CBMdQQ-X1uFm",
        "outputId": "d0b7136b-40ea-4511-93fb-0f5c89047bd2"
      },
      "execution_count": null,
      "outputs": [
        {
          "output_type": "execute_result",
          "data": {
            "text/html": [
              "<div>\n",
              "<style scoped>\n",
              "    .dataframe tbody tr th:only-of-type {\n",
              "        vertical-align: middle;\n",
              "    }\n",
              "\n",
              "    .dataframe tbody tr th {\n",
              "        vertical-align: top;\n",
              "    }\n",
              "\n",
              "    .dataframe thead th {\n",
              "        text-align: right;\n",
              "    }\n",
              "</style>\n",
              "<table border=\"1\" class=\"dataframe\">\n",
              "  <thead>\n",
              "    <tr style=\"text-align: right;\">\n",
              "      <th></th>\n",
              "      <th>xu</th>\n",
              "      <th>xl</th>\n",
              "      <th>xr</th>\n",
              "      <th>f(xu)</th>\n",
              "      <th>f(xl)</th>\n",
              "      <th>f(xr)</th>\n",
              "      <th>f(xr).(xl)</th>\n",
              "      <th>error</th>\n",
              "    </tr>\n",
              "  </thead>\n",
              "  <tbody>\n",
              "    <tr>\n",
              "      <th>0</th>\n",
              "      <td>0.000000</td>\n",
              "      <td>1.000000</td>\n",
              "      <td>0.500000</td>\n",
              "      <td>-0.500000</td>\n",
              "      <td>0.729849</td>\n",
              "      <td>0.061209</td>\n",
              "      <td>+</td>\n",
              "      <td>0.500000</td>\n",
              "    </tr>\n",
              "    <tr>\n",
              "      <th>1</th>\n",
              "      <td>0.000000</td>\n",
              "      <td>0.500000</td>\n",
              "      <td>0.250000</td>\n",
              "      <td>-0.500000</td>\n",
              "      <td>0.061209</td>\n",
              "      <td>-0.234456</td>\n",
              "      <td>-</td>\n",
              "      <td>0.250000</td>\n",
              "    </tr>\n",
              "    <tr>\n",
              "      <th>2</th>\n",
              "      <td>0.250000</td>\n",
              "      <td>0.500000</td>\n",
              "      <td>0.375000</td>\n",
              "      <td>-0.234456</td>\n",
              "      <td>0.061209</td>\n",
              "      <td>-0.090254</td>\n",
              "      <td>-</td>\n",
              "      <td>0.125000</td>\n",
              "    </tr>\n",
              "    <tr>\n",
              "      <th>3</th>\n",
              "      <td>0.375000</td>\n",
              "      <td>0.500000</td>\n",
              "      <td>0.437500</td>\n",
              "      <td>-0.090254</td>\n",
              "      <td>0.061209</td>\n",
              "      <td>-0.015407</td>\n",
              "      <td>-</td>\n",
              "      <td>0.062500</td>\n",
              "    </tr>\n",
              "    <tr>\n",
              "      <th>4</th>\n",
              "      <td>0.437500</td>\n",
              "      <td>0.500000</td>\n",
              "      <td>0.468750</td>\n",
              "      <td>-0.015407</td>\n",
              "      <td>0.061209</td>\n",
              "      <td>0.022683</td>\n",
              "      <td>+</td>\n",
              "      <td>0.031250</td>\n",
              "    </tr>\n",
              "    <tr>\n",
              "      <th>5</th>\n",
              "      <td>0.437500</td>\n",
              "      <td>0.468750</td>\n",
              "      <td>0.453125</td>\n",
              "      <td>-0.015407</td>\n",
              "      <td>0.022683</td>\n",
              "      <td>0.003583</td>\n",
              "      <td>+</td>\n",
              "      <td>0.015625</td>\n",
              "    </tr>\n",
              "    <tr>\n",
              "      <th>6</th>\n",
              "      <td>0.437500</td>\n",
              "      <td>0.453125</td>\n",
              "      <td>0.445312</td>\n",
              "      <td>-0.015407</td>\n",
              "      <td>0.003583</td>\n",
              "      <td>-0.005926</td>\n",
              "      <td>-</td>\n",
              "      <td>0.007812</td>\n",
              "    </tr>\n",
              "    <tr>\n",
              "      <th>7</th>\n",
              "      <td>0.445312</td>\n",
              "      <td>0.453125</td>\n",
              "      <td>0.449219</td>\n",
              "      <td>-0.005926</td>\n",
              "      <td>0.003583</td>\n",
              "      <td>-0.001175</td>\n",
              "      <td>-</td>\n",
              "      <td>0.003906</td>\n",
              "    </tr>\n",
              "    <tr>\n",
              "      <th>8</th>\n",
              "      <td>0.449219</td>\n",
              "      <td>0.453125</td>\n",
              "      <td>0.451172</td>\n",
              "      <td>-0.001175</td>\n",
              "      <td>0.003583</td>\n",
              "      <td>0.001203</td>\n",
              "      <td>+</td>\n",
              "      <td>0.001953</td>\n",
              "    </tr>\n",
              "    <tr>\n",
              "      <th>9</th>\n",
              "      <td>0.449219</td>\n",
              "      <td>0.451172</td>\n",
              "      <td>0.450195</td>\n",
              "      <td>-0.001175</td>\n",
              "      <td>0.001203</td>\n",
              "      <td>0.000014</td>\n",
              "      <td>+</td>\n",
              "      <td>0.000977</td>\n",
              "    </tr>\n",
              "  </tbody>\n",
              "</table>\n",
              "</div>"
            ],
            "text/plain": [
              "         xu        xl        xr  ...     f(xr)  f(xr).(xl)     error\n",
              "0  0.000000  1.000000  0.500000  ...  0.061209           +  0.500000\n",
              "1  0.000000  0.500000  0.250000  ... -0.234456           -  0.250000\n",
              "2  0.250000  0.500000  0.375000  ... -0.090254           -  0.125000\n",
              "3  0.375000  0.500000  0.437500  ... -0.015407           -  0.062500\n",
              "4  0.437500  0.500000  0.468750  ...  0.022683           +  0.031250\n",
              "5  0.437500  0.468750  0.453125  ...  0.003583           +  0.015625\n",
              "6  0.437500  0.453125  0.445312  ... -0.005926           -  0.007812\n",
              "7  0.445312  0.453125  0.449219  ... -0.001175           -  0.003906\n",
              "8  0.449219  0.453125  0.451172  ...  0.001203           +  0.001953\n",
              "9  0.449219  0.451172  0.450195  ...  0.000014           +  0.000977\n",
              "\n",
              "[10 rows x 8 columns]"
            ]
          },
          "metadata": {},
          "execution_count": 21
        }
      ]
    },
    {
      "cell_type": "markdown",
      "source": [
        "---\n",
        "## False Position"
      ],
      "metadata": {
        "id": "GX8OHhA1H2L1"
      }
    },
    {
      "cell_type": "code",
      "source": [
        "def FalsePosition(func, xu, xl,error,max_iter=20):\n",
        "    '''\n",
        "    This function uses False Position method\n",
        "\n",
        "    * func: the function which we want to find the root of it\n",
        "    \n",
        "    >>> y = func(x)\n",
        "    >>> 0 = func( x=root)\n",
        "\n",
        "    * xu: lower bound,  xu < xl\n",
        "\n",
        "    * xl: upper bound, xu < xl\n",
        "\n",
        "    *error: finishing error condition when result error is less than given erro\n",
        "\n",
        "    *max_iter: maximum number of iterations\n",
        "\n",
        "    '''\n",
        "    xui = xu\n",
        "    xli = xl\n",
        "    error_i = xli - xui\n",
        "\n",
        "    l = []\n",
        "    xr_last = 0\n",
        "    i = 0\n",
        "    while error_i > error:\n",
        "        d = {}\n",
        "        \n",
        "        xr = xui - (func(xui) / (func(xui) - func(xli))) * (xui-xli)\n",
        "\n",
        "        d[\"xu\"] = xui\n",
        "        d[\"xl\"] = xli\n",
        "        d[\"xr\"] = xr\n",
        "        d[\"f(xu)\"] = func(xui)\n",
        "        d[\"f(xl)\"] = func(xli)\n",
        "        d[\"f(xr)\"] = func(xr)\n",
        "\n",
        "        if func(xr)*func(xli) > 0:\n",
        "            xli = xr\n",
        "            d[\"f(xr).(xl)\"] = \"+\"\n",
        "        else:\n",
        "            xui = xr\n",
        "            d[\"f(xr).(xl)\"] = \"-\"\n",
        "        \n",
        "\n",
        "        error_i = abs(xr-xr_last)\n",
        "        d[\"error\"] = error_i\n",
        "        xr_last = xr\n",
        "        \n",
        "        i +=1\n",
        "        if i > max_iter:\n",
        "            break\n",
        "\n",
        "        l.append(d)\n",
        "    \n",
        "    return pd.DataFrame(l)"
      ],
      "metadata": {
        "id": "NYEj-73L2DFM"
      },
      "execution_count": null,
      "outputs": []
    },
    {
      "cell_type": "code",
      "source": [
        "def f(x):\n",
        "    return x - 0.5*np.cos(x)\n",
        "\n",
        "FalsePosition(f,0,1,0.001)"
      ],
      "metadata": {
        "colab": {
          "base_uri": "https://localhost:8080/"
        },
        "id": "lPtbP5CiEOGA",
        "outputId": "988dcdf2-f39b-429c-8187-8b1b085fa48f"
      },
      "execution_count": null,
      "outputs": [
        {
          "output_type": "execute_result",
          "data": {
            "text/html": [
              "<div>\n",
              "<style scoped>\n",
              "    .dataframe tbody tr th:only-of-type {\n",
              "        vertical-align: middle;\n",
              "    }\n",
              "\n",
              "    .dataframe tbody tr th {\n",
              "        vertical-align: top;\n",
              "    }\n",
              "\n",
              "    .dataframe thead th {\n",
              "        text-align: right;\n",
              "    }\n",
              "</style>\n",
              "<table border=\"1\" class=\"dataframe\">\n",
              "  <thead>\n",
              "    <tr style=\"text-align: right;\">\n",
              "      <th></th>\n",
              "      <th>xu</th>\n",
              "      <th>xl</th>\n",
              "      <th>xr</th>\n",
              "      <th>f(xu)</th>\n",
              "      <th>f(xl)</th>\n",
              "      <th>f(xr)</th>\n",
              "      <th>f(xr).(xl)</th>\n",
              "      <th>error</th>\n",
              "    </tr>\n",
              "  </thead>\n",
              "  <tbody>\n",
              "    <tr>\n",
              "      <th>0</th>\n",
              "      <td>0.000000</td>\n",
              "      <td>1</td>\n",
              "      <td>0.406554</td>\n",
              "      <td>-0.500000</td>\n",
              "      <td>0.729849</td>\n",
              "      <td>-0.052690</td>\n",
              "      <td>-</td>\n",
              "      <td>0.406554</td>\n",
              "    </tr>\n",
              "    <tr>\n",
              "      <th>1</th>\n",
              "      <td>0.406554</td>\n",
              "      <td>1</td>\n",
              "      <td>0.446512</td>\n",
              "      <td>-0.052690</td>\n",
              "      <td>0.729849</td>\n",
              "      <td>-0.004467</td>\n",
              "      <td>-</td>\n",
              "      <td>0.039958</td>\n",
              "    </tr>\n",
              "    <tr>\n",
              "      <th>2</th>\n",
              "      <td>0.446512</td>\n",
              "      <td>1</td>\n",
              "      <td>0.449879</td>\n",
              "      <td>-0.004467</td>\n",
              "      <td>0.729849</td>\n",
              "      <td>-0.000370</td>\n",
              "      <td>-</td>\n",
              "      <td>0.003367</td>\n",
              "    </tr>\n",
              "    <tr>\n",
              "      <th>3</th>\n",
              "      <td>0.449879</td>\n",
              "      <td>1</td>\n",
              "      <td>0.450158</td>\n",
              "      <td>-0.000370</td>\n",
              "      <td>0.729849</td>\n",
              "      <td>-0.000031</td>\n",
              "      <td>-</td>\n",
              "      <td>0.000279</td>\n",
              "    </tr>\n",
              "  </tbody>\n",
              "</table>\n",
              "</div>"
            ],
            "text/plain": [
              "         xu  xl        xr     f(xu)     f(xl)     f(xr) f(xr).(xl)     error\n",
              "0  0.000000   1  0.406554 -0.500000  0.729849 -0.052690          -  0.406554\n",
              "1  0.406554   1  0.446512 -0.052690  0.729849 -0.004467          -  0.039958\n",
              "2  0.446512   1  0.449879 -0.004467  0.729849 -0.000370          -  0.003367\n",
              "3  0.449879   1  0.450158 -0.000370  0.729849 -0.000031          -  0.000279"
            ]
          },
          "metadata": {},
          "execution_count": 23
        }
      ]
    },
    {
      "cell_type": "markdown",
      "source": [
        "---\n",
        "## Secant"
      ],
      "metadata": {
        "id": "4gcbINXzInqT"
      }
    },
    {
      "cell_type": "code",
      "source": [
        "def secant(func,x0,error,max_iter=20):\n",
        "    '''\n",
        "    This function uses Secant method\n",
        "\n",
        "    * func: the function which we want to find the root of it\n",
        "    \n",
        "    >>> y = func(x)\n",
        "    >>> 0 = func( x=root)\n",
        "\n",
        "    *x0: initial guess\n",
        "\n",
        "    *error: finishing error condition when result error is less than given erro\n",
        "\n",
        "    *max_iter: maximum number of iterations\n",
        "\n",
        "    '''\n",
        "    xil = 0.0\n",
        "    xi = x0\n",
        "    \n",
        "    error_i = 10 * error\n",
        "\n",
        "    l = []\n",
        "    i = 0\n",
        "    while error_i > error:\n",
        "        i += 1\n",
        "        d = {}\n",
        "        xi1 = xi - func(xi)*(xi - xil)/(func(xi) - func(xil))\n",
        "        d[\"x_i\"] = xi\n",
        "        d[\"f(x_i)\"] = func(xi)\n",
        "\n",
        "        error_i = abs(xil - xi)\n",
        "        d[\"error\"] = error_i\n",
        "\n",
        "        xil = xi\n",
        "        xi = xi1\n",
        "\n",
        "        l.append(d)\n",
        "\n",
        "        if i > max_iter:\n",
        "            break\n",
        "\n",
        "    return pd.DataFrame(l)"
      ],
      "metadata": {
        "id": "I-0Gn6piESUv"
      },
      "execution_count": null,
      "outputs": []
    },
    {
      "cell_type": "code",
      "source": [
        "def f(x):\n",
        "    return x - 0.5*np.cos(x)\n",
        "\n",
        "secant(f,1,0.000001)"
      ],
      "metadata": {
        "colab": {
          "base_uri": "https://localhost:8080/"
        },
        "id": "VEy1gXIgF4BJ",
        "outputId": "d18143fb-4caa-42a1-e87b-046c3d1f6fcd"
      },
      "execution_count": null,
      "outputs": [
        {
          "output_type": "execute_result",
          "data": {
            "text/html": [
              "<div>\n",
              "<style scoped>\n",
              "    .dataframe tbody tr th:only-of-type {\n",
              "        vertical-align: middle;\n",
              "    }\n",
              "\n",
              "    .dataframe tbody tr th {\n",
              "        vertical-align: top;\n",
              "    }\n",
              "\n",
              "    .dataframe thead th {\n",
              "        text-align: right;\n",
              "    }\n",
              "</style>\n",
              "<table border=\"1\" class=\"dataframe\">\n",
              "  <thead>\n",
              "    <tr style=\"text-align: right;\">\n",
              "      <th></th>\n",
              "      <th>x_i</th>\n",
              "      <th>f(x_i)</th>\n",
              "      <th>error</th>\n",
              "    </tr>\n",
              "  </thead>\n",
              "  <tbody>\n",
              "    <tr>\n",
              "      <th>0</th>\n",
              "      <td>1.000000</td>\n",
              "      <td>7.298488e-01</td>\n",
              "      <td>1.000000e+00</td>\n",
              "    </tr>\n",
              "    <tr>\n",
              "      <th>1</th>\n",
              "      <td>0.406554</td>\n",
              "      <td>-5.269046e-02</td>\n",
              "      <td>5.934460e-01</td>\n",
              "    </tr>\n",
              "    <tr>\n",
              "      <th>2</th>\n",
              "      <td>0.446512</td>\n",
              "      <td>-4.466993e-03</td>\n",
              "      <td>3.995830e-02</td>\n",
              "    </tr>\n",
              "    <tr>\n",
              "      <th>3</th>\n",
              "      <td>0.450214</td>\n",
              "      <td>3.664577e-05</td>\n",
              "      <td>3.701381e-03</td>\n",
              "    </tr>\n",
              "    <tr>\n",
              "      <th>4</th>\n",
              "      <td>0.450184</td>\n",
              "      <td>-2.490311e-08</td>\n",
              "      <td>3.011786e-05</td>\n",
              "    </tr>\n",
              "    <tr>\n",
              "      <th>5</th>\n",
              "      <td>0.450184</td>\n",
              "      <td>-1.385558e-13</td>\n",
              "      <td>2.045309e-08</td>\n",
              "    </tr>\n",
              "  </tbody>\n",
              "</table>\n",
              "</div>"
            ],
            "text/plain": [
              "        x_i        f(x_i)         error\n",
              "0  1.000000  7.298488e-01  1.000000e+00\n",
              "1  0.406554 -5.269046e-02  5.934460e-01\n",
              "2  0.446512 -4.466993e-03  3.995830e-02\n",
              "3  0.450214  3.664577e-05  3.701381e-03\n",
              "4  0.450184 -2.490311e-08  3.011786e-05\n",
              "5  0.450184 -1.385558e-13  2.045309e-08"
            ]
          },
          "metadata": {},
          "execution_count": 25
        }
      ]
    },
    {
      "cell_type": "markdown",
      "source": [
        "---\n",
        "---\n",
        "---\n",
        "#Interpolation"
      ],
      "metadata": {
        "id": "6Skzr5rSGAcB"
      }
    },
    {
      "cell_type": "markdown",
      "source": [
        "## Lagrange "
      ],
      "metadata": {
        "id": "QpLh5sSfMbcq"
      }
    },
    {
      "cell_type": "code",
      "source": [
        "def lagrange(Xs,Ys):\n",
        "    Ls = []\n",
        "    stylish = []\n",
        "    for i in range(len(Xs)):\n",
        "        \n",
        "        numerator = ''\n",
        "        denumerator = ''\n",
        "        for j in range(len(Xs)):\n",
        "            if i != j:\n",
        "                numerator += \"(x - {})*\".format(Xs[j])\n",
        "                denumerator += \"({} - {})*\".format(Xs[i],Xs[j])\n",
        "        \n",
        "        Ls.append(\"(\"+numerator[:-1]+\")/(\"+denumerator[:-1]+\")\")\n",
        "        stylish.append((\"\\\\frac{\"+numerator[:-1]+\"}{\"+denumerator[:-1]+\"}\").replace(\"*\",\".\"))\n",
        "\n",
        "    \n",
        "    Lx = ''\n",
        "    for i in range(len(Ls)):\n",
        "        Lx += Ls[i] + \"*\" + str(Ys[i]) + \"+\"\n",
        "        display(Latex(\"L_{}(x) =\".format(i) + stylish[i]))\n",
        "        print(\"\\n\")\n",
        "\n",
        "    Lx = Lx[:-1]\n",
        "    d = {}\n",
        "    cmd = \"def f(x): return {}\".format(Lx)\n",
        "    exec(cmd,d)\n",
        "\n",
        "    return d['f']"
      ],
      "metadata": {
        "id": "hV609wlihPmn"
      },
      "execution_count": null,
      "outputs": []
    },
    {
      "cell_type": "code",
      "source": [
        "f = lagrange([1,2,3],[1,4,9])"
      ],
      "metadata": {
        "colab": {
          "base_uri": "https://localhost:8080/",
          "height": 204
        },
        "id": "z63KcGIZiGOI",
        "outputId": "0f764236-54d4-47d8-b3eb-b22caed4df1d"
      },
      "execution_count": null,
      "outputs": [
        {
          "output_type": "display_data",
          "data": {
            "text/latex": "L_0(x) =\\frac{(x - 2).(x - 3)}{(1 - 2).(1 - 3)}",
            "text/plain": [
              "<IPython.core.display.Latex object>"
            ]
          },
          "metadata": {}
        },
        {
          "output_type": "stream",
          "name": "stdout",
          "text": [
            "\n",
            "\n"
          ]
        },
        {
          "output_type": "display_data",
          "data": {
            "text/latex": "L_1(x) =\\frac{(x - 1).(x - 3)}{(2 - 1).(2 - 3)}",
            "text/plain": [
              "<IPython.core.display.Latex object>"
            ]
          },
          "metadata": {}
        },
        {
          "output_type": "stream",
          "name": "stdout",
          "text": [
            "\n",
            "\n"
          ]
        },
        {
          "output_type": "display_data",
          "data": {
            "text/latex": "L_2(x) =\\frac{(x - 1).(x - 2)}{(3 - 1).(3 - 2)}",
            "text/plain": [
              "<IPython.core.display.Latex object>"
            ]
          },
          "metadata": {}
        },
        {
          "output_type": "stream",
          "name": "stdout",
          "text": [
            "\n",
            "\n"
          ]
        }
      ]
    },
    {
      "cell_type": "code",
      "source": [
        "f(2.3)"
      ],
      "metadata": {
        "colab": {
          "base_uri": "https://localhost:8080/"
        },
        "id": "THdRhUkcmX0J",
        "outputId": "b3bce26f-752c-47ec-fc91-47cd67fd64d7"
      },
      "execution_count": null,
      "outputs": [
        {
          "output_type": "execute_result",
          "data": {
            "text/plain": [
              "5.289999999999999"
            ]
          },
          "metadata": {},
          "execution_count": 28
        }
      ]
    },
    {
      "cell_type": "markdown",
      "source": [
        "## Newton"
      ],
      "metadata": {
        "id": "DbRDNRhvqTIx"
      }
    },
    {
      "cell_type": "code",
      "source": [
        "def NewtonInteropoating(Xs,Ys):\n",
        "    \n",
        "    Ysi = Ys\n",
        "    L = []\n",
        "    for j in range(1,len(Xs)):\n",
        "        l = []\n",
        "        for i in range(1,len(Ysi)):\n",
        "            N = Ysi[i] - Ysi[i-1]\n",
        "            D = Xs[i+j-1] - Xs[i-1]\n",
        "            l.append(N/D)\n",
        "        L.append(l)\n",
        "        Ysi = l\n",
        "    \n",
        "    S = str(Ys[0])\n",
        "    for i in range(len(Xs)-1):\n",
        "        S += \"+\"\n",
        "        S += str(L[i][0])\n",
        "        for k in range(i+1,):\n",
        "            S += \"* (x - {})\".format(Xs[k])\n",
        "\n",
        "    LL = [Xs,Ys] + L\n",
        "    cols = [\"X\",\"Y\"]+(len(Xs)-1)*[\"f\"]\n",
        "    df = pd.DataFrame(LL,cols).T\n",
        "\n",
        "    d = {}\n",
        "    cmd = \"def f(x): return {}\".format(S)\n",
        "    exec(cmd,d)\n",
        "\n",
        "    return df,d['f']"
      ],
      "metadata": {
        "id": "CMJ1rC6urVLu"
      },
      "execution_count": null,
      "outputs": []
    },
    {
      "cell_type": "code",
      "source": [
        "df,f = NewtonInteropoating([1,2,3,4],[1,4,9,16])\n",
        "df"
      ],
      "metadata": {
        "colab": {
          "base_uri": "https://localhost:8080/",
          "height": 174
        },
        "id": "-cXa9-2tvPtl",
        "outputId": "3f989d41-2411-47fd-8fc2-41a6c67ff792"
      },
      "execution_count": null,
      "outputs": [
        {
          "output_type": "execute_result",
          "data": {
            "text/html": [
              "<div>\n",
              "<style scoped>\n",
              "    .dataframe tbody tr th:only-of-type {\n",
              "        vertical-align: middle;\n",
              "    }\n",
              "\n",
              "    .dataframe tbody tr th {\n",
              "        vertical-align: top;\n",
              "    }\n",
              "\n",
              "    .dataframe thead th {\n",
              "        text-align: right;\n",
              "    }\n",
              "</style>\n",
              "<table border=\"1\" class=\"dataframe\">\n",
              "  <thead>\n",
              "    <tr style=\"text-align: right;\">\n",
              "      <th></th>\n",
              "      <th>X</th>\n",
              "      <th>Y</th>\n",
              "      <th>f</th>\n",
              "      <th>f</th>\n",
              "      <th>f</th>\n",
              "    </tr>\n",
              "  </thead>\n",
              "  <tbody>\n",
              "    <tr>\n",
              "      <th>0</th>\n",
              "      <td>1.0</td>\n",
              "      <td>1.0</td>\n",
              "      <td>3.0</td>\n",
              "      <td>1.0</td>\n",
              "      <td>0.0</td>\n",
              "    </tr>\n",
              "    <tr>\n",
              "      <th>1</th>\n",
              "      <td>2.0</td>\n",
              "      <td>4.0</td>\n",
              "      <td>5.0</td>\n",
              "      <td>1.0</td>\n",
              "      <td>NaN</td>\n",
              "    </tr>\n",
              "    <tr>\n",
              "      <th>2</th>\n",
              "      <td>3.0</td>\n",
              "      <td>9.0</td>\n",
              "      <td>7.0</td>\n",
              "      <td>NaN</td>\n",
              "      <td>NaN</td>\n",
              "    </tr>\n",
              "    <tr>\n",
              "      <th>3</th>\n",
              "      <td>4.0</td>\n",
              "      <td>16.0</td>\n",
              "      <td>NaN</td>\n",
              "      <td>NaN</td>\n",
              "      <td>NaN</td>\n",
              "    </tr>\n",
              "  </tbody>\n",
              "</table>\n",
              "</div>"
            ],
            "text/plain": [
              "     X     Y    f    f    f\n",
              "0  1.0   1.0  3.0  1.0  0.0\n",
              "1  2.0   4.0  5.0  1.0  NaN\n",
              "2  3.0   9.0  7.0  NaN  NaN\n",
              "3  4.0  16.0  NaN  NaN  NaN"
            ]
          },
          "metadata": {},
          "execution_count": 30
        }
      ]
    },
    {
      "cell_type": "markdown",
      "source": [
        "# Integral"
      ],
      "metadata": {
        "id": "bv52kM9Ya1F3"
      }
    },
    {
      "cell_type": "markdown",
      "source": [
        "## trapezium method\n",
        "\n",
        "* single step:\n",
        ">$I = \\int_{x_0}^{x_1} f(x)dx= \\frac{h}{2}[f(x_0) + f(x_1)]$\n",
        "\n",
        "* multiple steps: \n",
        "> $I = \\int_{x_0}^{x_n} f(x)dx= \\frac{h}{2}[f(x_0) + f(x_n) + 2.Σ_{i=1}^{n-1}f(x_i)]$\n"
      ],
      "metadata": {
        "id": "cUX5ezs5cxIn"
      }
    },
    {
      "cell_type": "code",
      "source": [
        "def trapezium(func, x0, xn, h):\n",
        "    xi = x0\n",
        "    I = 0\n",
        "    while xi < xn:\n",
        "        I += h * (func(xi) + func(xi+h))/2\n",
        "        xi += h\n",
        "\n",
        "    return I"
      ],
      "metadata": {
        "id": "DyD4zi_K2WbB"
      },
      "execution_count": null,
      "outputs": []
    },
    {
      "cell_type": "code",
      "source": [
        "def func(x):\n",
        "    return x**2\n",
        "\n",
        "trapezium(func,0,2,0.01)"
      ],
      "metadata": {
        "colab": {
          "base_uri": "https://localhost:8080/"
        },
        "id": "cY2EOeUW5ipd",
        "outputId": "f0718020-a320-4e78-b793-a0a3df969c98"
      },
      "execution_count": null,
      "outputs": [
        {
          "output_type": "execute_result",
          "data": {
            "text/plain": [
              "2.666700000000004"
            ]
          },
          "metadata": {},
          "execution_count": 32
        }
      ]
    },
    {
      "cell_type": "markdown",
      "source": [
        "## Simpson 1/3"
      ],
      "metadata": {
        "id": "eaip0mSr5mlf"
      }
    },
    {
      "cell_type": "markdown",
      "source": [
        "$I = \\int_{x0}^{x2}f(x)dx = \\frac{h}{3}(f(x_0) + 4.f(x_1) + f(x_2))$"
      ],
      "metadata": {
        "id": "kHsmedUDrdwP"
      }
    },
    {
      "cell_type": "code",
      "source": [
        "def Simpson13(func, x0, xn, h):\n",
        "    xi = x0\n",
        "    I = 0\n",
        "    while xi < xn:\n",
        "        I += h * (f(xi) + 4*f(xi +h) + f(xi + 2*h))/3\n",
        "        xi += 2*h\n",
        "\n",
        "    return I"
      ],
      "metadata": {
        "id": "Kgx-LjDY96Ac"
      },
      "execution_count": null,
      "outputs": []
    },
    {
      "cell_type": "code",
      "source": [
        "def func(x):\n",
        "    return x**2\n",
        "\n",
        "Simpson13(func,0,2,0.01)"
      ],
      "metadata": {
        "colab": {
          "base_uri": "https://localhost:8080/"
        },
        "id": "rwPszn7SCSA2",
        "outputId": "79a4445a-0247-4f69-9156-dbbbaccdb8cf"
      },
      "execution_count": null,
      "outputs": [
        {
          "output_type": "execute_result",
          "data": {
            "text/plain": [
              "2.66666666666667"
            ]
          },
          "metadata": {},
          "execution_count": 34
        }
      ]
    },
    {
      "cell_type": "markdown",
      "source": [
        "## Simpson 3/8"
      ],
      "metadata": {
        "id": "6mJP3g67CUB6"
      }
    },
    {
      "cell_type": "markdown",
      "source": [
        "$I = \\int_{x_0}^{x_3}f(x)dx = \\frac{3.h}{8}(f(x_0) + 3.f(x_1) + 3.f(x_2) + f(x_3))$"
      ],
      "metadata": {
        "id": "pxPdHu0mr0r9"
      }
    },
    {
      "cell_type": "code",
      "source": [
        "def Simpson38(func, x0, xn, h):\n",
        "    xi = x0\n",
        "    I = 0\n",
        "    while xi < xn:\n",
        "        I += h * 3 * (f(xi) + 3*f(xi +h) + 3*f(xi + 2*h) + f(xi + 3*h))/8\n",
        "        xi += 3*h\n",
        "\n",
        "    return I"
      ],
      "metadata": {
        "id": "95nlKy3zC482"
      },
      "execution_count": null,
      "outputs": []
    },
    {
      "cell_type": "code",
      "source": [
        "def func(x):\n",
        "    return x**2\n",
        "\n",
        "Simpson38(func,0,2,0.001)"
      ],
      "metadata": {
        "colab": {
          "base_uri": "https://localhost:8080/"
        },
        "id": "lpW2ubdfDFPj",
        "outputId": "10797a6a-bd6e-4145-8c83-70958aa8634a"
      },
      "execution_count": null,
      "outputs": [
        {
          "output_type": "execute_result",
          "data": {
            "text/plain": [
              "2.670668666999943"
            ]
          },
          "metadata": {},
          "execution_count": 36
        }
      ]
    },
    {
      "cell_type": "code",
      "source": [
        ""
      ],
      "metadata": {
        "id": "_VsG5roTDI9p"
      },
      "execution_count": null,
      "outputs": []
    }
  ]
}